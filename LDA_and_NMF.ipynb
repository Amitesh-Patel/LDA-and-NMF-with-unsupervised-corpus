{
  "nbformat": 4,
  "nbformat_minor": 0,
  "metadata": {
    "colab": {
      "provenance": []
    },
    "kernelspec": {
      "name": "python3",
      "display_name": "Python 3"
    },
    "language_info": {
      "name": "python"
    }
  },
  "cells": [
    {
      "cell_type": "markdown",
      "source": [
        "## **Latent Dirichlet Allocation**"
      ],
      "metadata": {
        "id": "IjCSONKdqZAH"
      }
    },
    {
      "cell_type": "markdown",
      "source": [
        "![image.png](data:image/png;base64,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)"
      ],
      "metadata": {
        "id": "jxw9H3X87Zg5"
      }
    },
    {
      "cell_type": "markdown",
      "source": [
        "Allows for us to efficently analyze large volumes of text by clustering documents into topics . Here we have large amount of data which is unlabelled meaning we cannot apply supervised learning approches . \n",
        "Also it is unsupervised so we cannot really evaluate our model."
      ],
      "metadata": {
        "id": "DXDUTsLl7sc4"
      }
    },
    {
      "cell_type": "code",
      "source": [
        "import numpy as np\n",
        "import pandas as pd\n"
      ],
      "metadata": {
        "id": "lXQdid3R6svU"
      },
      "execution_count": null,
      "outputs": []
    },
    {
      "cell_type": "code",
      "source": [
        "df = pd.read_csv(\"npr.csv\")"
      ],
      "metadata": {
        "id": "5h5Xn63BrMkG"
      },
      "execution_count": null,
      "outputs": []
    },
    {
      "cell_type": "code",
      "source": [
        "df.head()"
      ],
      "metadata": {
        "colab": {
          "base_uri": "https://localhost:8080/",
          "height": 206
        },
        "id": "0M8dghBZrUB-",
        "outputId": "dd92e2d8-005a-4959-8fd0-9aaa05a45363"
      },
      "execution_count": null,
      "outputs": [
        {
          "output_type": "execute_result",
          "data": {
            "text/plain": [
              "                                             Article\n",
              "0  In the Washington of 2016, even when the polic...\n",
              "1    Donald Trump has used Twitter  —   his prefe...\n",
              "2    Donald Trump is unabashedly praising Russian...\n",
              "3  Updated at 2:50 p. m. ET, Russian President Vl...\n",
              "4  From photography, illustration and video, to d..."
            ],
            "text/html": [
              "\n",
              "  <div id=\"df-2d6c7023-3bb1-4da0-b35e-9d8dd19fac7f\">\n",
              "    <div class=\"colab-df-container\">\n",
              "      <div>\n",
              "<style scoped>\n",
              "    .dataframe tbody tr th:only-of-type {\n",
              "        vertical-align: middle;\n",
              "    }\n",
              "\n",
              "    .dataframe tbody tr th {\n",
              "        vertical-align: top;\n",
              "    }\n",
              "\n",
              "    .dataframe thead th {\n",
              "        text-align: right;\n",
              "    }\n",
              "</style>\n",
              "<table border=\"1\" class=\"dataframe\">\n",
              "  <thead>\n",
              "    <tr style=\"text-align: right;\">\n",
              "      <th></th>\n",
              "      <th>Article</th>\n",
              "    </tr>\n",
              "  </thead>\n",
              "  <tbody>\n",
              "    <tr>\n",
              "      <th>0</th>\n",
              "      <td>In the Washington of 2016, even when the polic...</td>\n",
              "    </tr>\n",
              "    <tr>\n",
              "      <th>1</th>\n",
              "      <td>Donald Trump has used Twitter  —   his prefe...</td>\n",
              "    </tr>\n",
              "    <tr>\n",
              "      <th>2</th>\n",
              "      <td>Donald Trump is unabashedly praising Russian...</td>\n",
              "    </tr>\n",
              "    <tr>\n",
              "      <th>3</th>\n",
              "      <td>Updated at 2:50 p. m. ET, Russian President Vl...</td>\n",
              "    </tr>\n",
              "    <tr>\n",
              "      <th>4</th>\n",
              "      <td>From photography, illustration and video, to d...</td>\n",
              "    </tr>\n",
              "  </tbody>\n",
              "</table>\n",
              "</div>\n",
              "      <button class=\"colab-df-convert\" onclick=\"convertToInteractive('df-2d6c7023-3bb1-4da0-b35e-9d8dd19fac7f')\"\n",
              "              title=\"Convert this dataframe to an interactive table.\"\n",
              "              style=\"display:none;\">\n",
              "        \n",
              "  <svg xmlns=\"http://www.w3.org/2000/svg\" height=\"24px\"viewBox=\"0 0 24 24\"\n",
              "       width=\"24px\">\n",
              "    <path d=\"M0 0h24v24H0V0z\" fill=\"none\"/>\n",
              "    <path d=\"M18.56 5.44l.94 2.06.94-2.06 2.06-.94-2.06-.94-.94-2.06-.94 2.06-2.06.94zm-11 1L8.5 8.5l.94-2.06 2.06-.94-2.06-.94L8.5 2.5l-.94 2.06-2.06.94zm10 10l.94 2.06.94-2.06 2.06-.94-2.06-.94-.94-2.06-.94 2.06-2.06.94z\"/><path d=\"M17.41 7.96l-1.37-1.37c-.4-.4-.92-.59-1.43-.59-.52 0-1.04.2-1.43.59L10.3 9.45l-7.72 7.72c-.78.78-.78 2.05 0 2.83L4 21.41c.39.39.9.59 1.41.59.51 0 1.02-.2 1.41-.59l7.78-7.78 2.81-2.81c.8-.78.8-2.07 0-2.86zM5.41 20L4 18.59l7.72-7.72 1.47 1.35L5.41 20z\"/>\n",
              "  </svg>\n",
              "      </button>\n",
              "      \n",
              "  <style>\n",
              "    .colab-df-container {\n",
              "      display:flex;\n",
              "      flex-wrap:wrap;\n",
              "      gap: 12px;\n",
              "    }\n",
              "\n",
              "    .colab-df-convert {\n",
              "      background-color: #E8F0FE;\n",
              "      border: none;\n",
              "      border-radius: 50%;\n",
              "      cursor: pointer;\n",
              "      display: none;\n",
              "      fill: #1967D2;\n",
              "      height: 32px;\n",
              "      padding: 0 0 0 0;\n",
              "      width: 32px;\n",
              "    }\n",
              "\n",
              "    .colab-df-convert:hover {\n",
              "      background-color: #E2EBFA;\n",
              "      box-shadow: 0px 1px 2px rgba(60, 64, 67, 0.3), 0px 1px 3px 1px rgba(60, 64, 67, 0.15);\n",
              "      fill: #174EA6;\n",
              "    }\n",
              "\n",
              "    [theme=dark] .colab-df-convert {\n",
              "      background-color: #3B4455;\n",
              "      fill: #D2E3FC;\n",
              "    }\n",
              "\n",
              "    [theme=dark] .colab-df-convert:hover {\n",
              "      background-color: #434B5C;\n",
              "      box-shadow: 0px 1px 3px 1px rgba(0, 0, 0, 0.15);\n",
              "      filter: drop-shadow(0px 1px 2px rgba(0, 0, 0, 0.3));\n",
              "      fill: #FFFFFF;\n",
              "    }\n",
              "  </style>\n",
              "\n",
              "      <script>\n",
              "        const buttonEl =\n",
              "          document.querySelector('#df-2d6c7023-3bb1-4da0-b35e-9d8dd19fac7f button.colab-df-convert');\n",
              "        buttonEl.style.display =\n",
              "          google.colab.kernel.accessAllowed ? 'block' : 'none';\n",
              "\n",
              "        async function convertToInteractive(key) {\n",
              "          const element = document.querySelector('#df-2d6c7023-3bb1-4da0-b35e-9d8dd19fac7f');\n",
              "          const dataTable =\n",
              "            await google.colab.kernel.invokeFunction('convertToInteractive',\n",
              "                                                     [key], {});\n",
              "          if (!dataTable) return;\n",
              "\n",
              "          const docLinkHtml = 'Like what you see? Visit the ' +\n",
              "            '<a target=\"_blank\" href=https://colab.research.google.com/notebooks/data_table.ipynb>data table notebook</a>'\n",
              "            + ' to learn more about interactive tables.';\n",
              "          element.innerHTML = '';\n",
              "          dataTable['output_type'] = 'display_data';\n",
              "          await google.colab.output.renderOutput(dataTable, element);\n",
              "          const docLink = document.createElement('div');\n",
              "          docLink.innerHTML = docLinkHtml;\n",
              "          element.appendChild(docLink);\n",
              "        }\n",
              "      </script>\n",
              "    </div>\n",
              "  </div>\n",
              "  "
            ]
          },
          "metadata": {},
          "execution_count": 6
        }
      ]
    },
    {
      "cell_type": "code",
      "source": [
        "from sklearn.feature_extraction.text import CountVectorizer"
      ],
      "metadata": {
        "id": "JqXk62HxsIY-"
      },
      "execution_count": null,
      "outputs": []
    },
    {
      "cell_type": "code",
      "source": [
        "cv = CountVectorizer(max_df=0.9,min_df=2,stop_words='english')"
      ],
      "metadata": {
        "id": "MGto5BSksIdf"
      },
      "execution_count": null,
      "outputs": []
    },
    {
      "cell_type": "code",
      "source": [
        "dtm = cv.fit_transform(df['Article'])"
      ],
      "metadata": {
        "id": "37gnMRPpsIht"
      },
      "execution_count": null,
      "outputs": []
    },
    {
      "cell_type": "markdown",
      "source": [
        "**This corpus has 54777 unique words and here a document term matrix is created . Document term matrix is a sparse matrix containing 1 for the word which is present**"
      ],
      "metadata": {
        "id": "Tzn6FLrf8pev"
      }
    },
    {
      "cell_type": "code",
      "source": [
        "dtm.shape   "
      ],
      "metadata": {
        "colab": {
          "base_uri": "https://localhost:8080/"
        },
        "id": "psdaASMWtWUf",
        "outputId": "d440c555-e9b7-4b45-c6e3-e278fac82d5c"
      },
      "execution_count": null,
      "outputs": [
        {
          "output_type": "execute_result",
          "data": {
            "text/plain": [
              "(11992, 54777)"
            ]
          },
          "metadata": {},
          "execution_count": 68
        }
      ]
    },
    {
      "cell_type": "code",
      "source": [
        "from sklearn.decomposition import LatentDirichletAllocation\n"
      ],
      "metadata": {
        "id": "wLF694R7tWY9"
      },
      "execution_count": null,
      "outputs": []
    },
    {
      "cell_type": "code",
      "source": [
        "lda = LatentDirichletAllocation(n_components = 7,random_state=42)"
      ],
      "metadata": {
        "id": "SoEZ0b6ttWdo"
      },
      "execution_count": null,
      "outputs": []
    },
    {
      "cell_type": "markdown",
      "source": [
        "**Here by doing fit we are just calculating the probabilities not transforming the actual document **\n",
        "**And n_component is  decided by you that how many topic our model should contain here i choose 7**"
      ],
      "metadata": {
        "id": "CH5lyN239HUV"
      }
    },
    {
      "cell_type": "code",
      "source": [
        "lda.fit(dtm)"
      ],
      "metadata": {
        "colab": {
          "base_uri": "https://localhost:8080/"
        },
        "id": "-AVVbzS2tWiK",
        "outputId": "f7b28258-9cb1-4a8d-a90d-d66e6e9aa59f"
      },
      "execution_count": null,
      "outputs": [
        {
          "output_type": "execute_result",
          "data": {
            "text/plain": [
              "LatentDirichletAllocation(n_components=7, random_state=42)"
            ]
          },
          "metadata": {},
          "execution_count": 15
        }
      ]
    },
    {
      "cell_type": "code",
      "source": [
        "len(cv.get_feature_names())"
      ],
      "metadata": {
        "colab": {
          "base_uri": "https://localhost:8080/"
        },
        "id": "4bM1JTwMtWm2",
        "outputId": "4fe6ffba-c9ac-4a0e-adf9-0cef78859b84"
      },
      "execution_count": null,
      "outputs": [
        {
          "output_type": "execute_result",
          "data": {
            "text/plain": [
              "54777"
            ]
          },
          "metadata": {},
          "execution_count": 19
        }
      ]
    },
    {
      "cell_type": "code",
      "source": [
        "cv.get_feature_names_out()[50000]"
      ],
      "metadata": {
        "colab": {
          "base_uri": "https://localhost:8080/",
          "height": 36
        },
        "id": "tgTccdDItWr9",
        "outputId": "64d9e4dc-dcfb-403a-fe6e-a4ff33ca0e54"
      },
      "execution_count": null,
      "outputs": [
        {
          "output_type": "execute_result",
          "data": {
            "text/plain": [
              "'transcribe'"
            ],
            "application/vnd.google.colaboratory.intrinsic+json": {
              "type": "string"
            }
          },
          "metadata": {},
          "execution_count": 24
        }
      ]
    },
    {
      "cell_type": "code",
      "source": [
        "lda.components_.shape"
      ],
      "metadata": {
        "colab": {
          "base_uri": "https://localhost:8080/"
        },
        "id": "p_EV92GeviDt",
        "outputId": "c0bf41b0-0c71-41d5-b74f-1484caa9031d"
      },
      "execution_count": null,
      "outputs": [
        {
          "output_type": "execute_result",
          "data": {
            "text/plain": [
              "(7, 54777)"
            ]
          },
          "metadata": {},
          "execution_count": 65
        }
      ]
    },
    {
      "cell_type": "code",
      "source": [
        "single_topic = lda.components_[0]"
      ],
      "metadata": {
        "id": "IOHOWDubv5LP"
      },
      "execution_count": null,
      "outputs": []
    },
    {
      "cell_type": "code",
      "source": [
        "single_topic.argsort()   #index sort means the word at index at 2475 has minimum probablity"
      ],
      "metadata": {
        "colab": {
          "base_uri": "https://localhost:8080/"
        },
        "id": "Og9p-q7YwOO-",
        "outputId": "9d677cc6-d9c2-464d-9c3d-1532414e8f51"
      },
      "execution_count": null,
      "outputs": [
        {
          "output_type": "execute_result",
          "data": {
            "text/plain": [
              "array([ 2475, 18302, 35285, ..., 22673, 42561, 42993])"
            ]
          },
          "metadata": {},
          "execution_count": 29
        }
      ]
    },
    {
      "cell_type": "code",
      "source": [
        "#least ---> greatet\n",
        "top_te=single_topic.argsort()[-20:] "
      ],
      "metadata": {
        "id": "nF8UnyCzwPcQ"
      },
      "execution_count": null,
      "outputs": []
    },
    {
      "cell_type": "code",
      "source": [
        "for index in top_te:\n",
        "  print(cv.get_feature_names()[index])\n",
        "\n",
        "#first topic has this much feature that occur more"
      ],
      "metadata": {
        "id": "SxD75GIDw5ia"
      },
      "execution_count": null,
      "outputs": []
    },
    {
      "cell_type": "code",
      "source": [
        "import warnings\n",
        "warnings.filterwarnings('ignore')"
      ],
      "metadata": {
        "id": "GVwCeUMy0uvq"
      },
      "execution_count": null,
      "outputs": []
    },
    {
      "cell_type": "code",
      "source": [
        "n=0\n",
        "for i,topic in enumerate(lda.components_):\n",
        "  top_15=topic.argsort()[-15:]\n",
        "  print(f\"for topic {n}\")\n",
        "  print([cv.get_feature_names()[index] for index in top_15])\n",
        "  print(\"----------------------------------\")\n",
        "  print(\"\\n\")\n",
        "  n+=1\n",
        "\n",
        "#probability of words belonging to particular topic \n"
      ],
      "metadata": {
        "colab": {
          "base_uri": "https://localhost:8080/"
        },
        "id": "ofF6XModxJd6",
        "outputId": "37b102c7-a2fd-4b29-bd05-545c3ed9694a"
      },
      "execution_count": null,
      "outputs": [
        {
          "output_type": "stream",
          "name": "stdout",
          "text": [
            "for topic 0\n",
            "['companies', 'money', 'year', 'federal', '000', 'new', 'percent', 'government', 'company', 'million', 'care', 'people', 'health', 'said', 'says']\n",
            "----------------------------------\n",
            "\n",
            "\n",
            "for topic 1\n",
            "['military', 'house', 'security', 'russia', 'government', 'npr', 'reports', 'says', 'news', 'people', 'told', 'police', 'president', 'trump', 'said']\n",
            "----------------------------------\n",
            "\n",
            "\n",
            "for topic 2\n",
            "['way', 'world', 'family', 'home', 'day', 'time', 'water', 'city', 'new', 'years', 'food', 'just', 'people', 'like', 'says']\n",
            "----------------------------------\n",
            "\n",
            "\n",
            "for topic 3\n",
            "['time', 'new', 'don', 'years', 'medical', 'disease', 'patients', 'just', 'children', 'study', 'like', 'women', 'health', 'people', 'says']\n",
            "----------------------------------\n",
            "\n",
            "\n",
            "for topic 4\n",
            "['voters', 'vote', 'election', 'party', 'new', 'obama', 'court', 'republican', 'campaign', 'people', 'state', 'president', 'clinton', 'said', 'trump']\n",
            "----------------------------------\n",
            "\n",
            "\n",
            "for topic 5\n",
            "['years', 'going', 've', 'life', 'don', 'new', 'way', 'music', 'really', 'time', 'know', 'think', 'people', 'just', 'like']\n",
            "----------------------------------\n",
            "\n",
            "\n",
            "for topic 6\n",
            "['student', 'years', 'data', 'science', 'university', 'people', 'time', 'schools', 'just', 'education', 'new', 'like', 'students', 'school', 'says']\n",
            "----------------------------------\n",
            "\n",
            "\n"
          ]
        }
      ]
    },
    {
      "cell_type": "code",
      "source": [
        "topic_result = lda.transform(dtm)"
      ],
      "metadata": {
        "id": "2hc0cIdRx87L"
      },
      "execution_count": null,
      "outputs": []
    },
    {
      "cell_type": "code",
      "source": [
        "topic_result[0].round(3)  #probability of document belonging to a particular topic"
      ],
      "metadata": {
        "colab": {
          "base_uri": "https://localhost:8080/"
        },
        "id": "ZX6Pa4-m1Qtp",
        "outputId": "0964d6a9-648e-49c0-87de-507db32e3deb"
      },
      "execution_count": null,
      "outputs": [
        {
          "output_type": "execute_result",
          "data": {
            "text/plain": [
              "array([0.016, 0.683, 0.   , 0.   , 0.3  , 0.   , 0.   ])"
            ]
          },
          "metadata": {},
          "execution_count": 57
        }
      ]
    },
    {
      "cell_type": "code",
      "source": [
        "topic_result.shape"
      ],
      "metadata": {
        "colab": {
          "base_uri": "https://localhost:8080/"
        },
        "id": "35oA6dlT5V9Y",
        "outputId": "629ecb81-29a5-417b-ab4a-dee79ce12b49"
      },
      "execution_count": null,
      "outputs": [
        {
          "output_type": "execute_result",
          "data": {
            "text/plain": [
              "(11992, 7)"
            ]
          },
          "metadata": {},
          "execution_count": 67
        }
      ]
    },
    {
      "cell_type": "code",
      "source": [
        "df['Article'][1]  #we can see this document is somewhat matching with topic 2"
      ],
      "metadata": {
        "id": "gVjv7LgL1yMV"
      },
      "execution_count": null,
      "outputs": []
    },
    {
      "cell_type": "code",
      "source": [
        "topic_result[0].argmax()"
      ],
      "metadata": {
        "colab": {
          "base_uri": "https://localhost:8080/"
        },
        "id": "qJC60Rz42UnQ",
        "outputId": "d907623d-ba69-4477-9d77-24ca558b7c6f"
      },
      "execution_count": null,
      "outputs": [
        {
          "output_type": "execute_result",
          "data": {
            "text/plain": [
              "1"
            ]
          },
          "metadata": {},
          "execution_count": 61
        }
      ]
    },
    {
      "cell_type": "code",
      "source": [
        "df['topic']=topic_result.argmax(axis=1)"
      ],
      "metadata": {
        "id": "4EWmwrJt22IY"
      },
      "execution_count": null,
      "outputs": []
    },
    {
      "cell_type": "code",
      "source": [
        "df.head()"
      ],
      "metadata": {
        "colab": {
          "base_uri": "https://localhost:8080/",
          "height": 206
        },
        "id": "D3oJcv133A_l",
        "outputId": "36c25e6f-2939-4d63-d0c4-49da4659cad5"
      },
      "execution_count": null,
      "outputs": [
        {
          "output_type": "execute_result",
          "data": {
            "text/plain": [
              "                                             Article  topic\n",
              "0  In the Washington of 2016, even when the polic...      1\n",
              "1    Donald Trump has used Twitter  —   his prefe...      1\n",
              "2    Donald Trump is unabashedly praising Russian...      1\n",
              "3  Updated at 2:50 p. m. ET, Russian President Vl...      1\n",
              "4  From photography, illustration and video, to d...      2"
            ],
            "text/html": [
              "\n",
              "  <div id=\"df-60689d88-2f9b-479b-a7ca-5e9cfd327f8d\">\n",
              "    <div class=\"colab-df-container\">\n",
              "      <div>\n",
              "<style scoped>\n",
              "    .dataframe tbody tr th:only-of-type {\n",
              "        vertical-align: middle;\n",
              "    }\n",
              "\n",
              "    .dataframe tbody tr th {\n",
              "        vertical-align: top;\n",
              "    }\n",
              "\n",
              "    .dataframe thead th {\n",
              "        text-align: right;\n",
              "    }\n",
              "</style>\n",
              "<table border=\"1\" class=\"dataframe\">\n",
              "  <thead>\n",
              "    <tr style=\"text-align: right;\">\n",
              "      <th></th>\n",
              "      <th>Article</th>\n",
              "      <th>topic</th>\n",
              "    </tr>\n",
              "  </thead>\n",
              "  <tbody>\n",
              "    <tr>\n",
              "      <th>0</th>\n",
              "      <td>In the Washington of 2016, even when the polic...</td>\n",
              "      <td>1</td>\n",
              "    </tr>\n",
              "    <tr>\n",
              "      <th>1</th>\n",
              "      <td>Donald Trump has used Twitter  —   his prefe...</td>\n",
              "      <td>1</td>\n",
              "    </tr>\n",
              "    <tr>\n",
              "      <th>2</th>\n",
              "      <td>Donald Trump is unabashedly praising Russian...</td>\n",
              "      <td>1</td>\n",
              "    </tr>\n",
              "    <tr>\n",
              "      <th>3</th>\n",
              "      <td>Updated at 2:50 p. m. ET, Russian President Vl...</td>\n",
              "      <td>1</td>\n",
              "    </tr>\n",
              "    <tr>\n",
              "      <th>4</th>\n",
              "      <td>From photography, illustration and video, to d...</td>\n",
              "      <td>2</td>\n",
              "    </tr>\n",
              "  </tbody>\n",
              "</table>\n",
              "</div>\n",
              "      <button class=\"colab-df-convert\" onclick=\"convertToInteractive('df-60689d88-2f9b-479b-a7ca-5e9cfd327f8d')\"\n",
              "              title=\"Convert this dataframe to an interactive table.\"\n",
              "              style=\"display:none;\">\n",
              "        \n",
              "  <svg xmlns=\"http://www.w3.org/2000/svg\" height=\"24px\"viewBox=\"0 0 24 24\"\n",
              "       width=\"24px\">\n",
              "    <path d=\"M0 0h24v24H0V0z\" fill=\"none\"/>\n",
              "    <path d=\"M18.56 5.44l.94 2.06.94-2.06 2.06-.94-2.06-.94-.94-2.06-.94 2.06-2.06.94zm-11 1L8.5 8.5l.94-2.06 2.06-.94-2.06-.94L8.5 2.5l-.94 2.06-2.06.94zm10 10l.94 2.06.94-2.06 2.06-.94-2.06-.94-.94-2.06-.94 2.06-2.06.94z\"/><path d=\"M17.41 7.96l-1.37-1.37c-.4-.4-.92-.59-1.43-.59-.52 0-1.04.2-1.43.59L10.3 9.45l-7.72 7.72c-.78.78-.78 2.05 0 2.83L4 21.41c.39.39.9.59 1.41.59.51 0 1.02-.2 1.41-.59l7.78-7.78 2.81-2.81c.8-.78.8-2.07 0-2.86zM5.41 20L4 18.59l7.72-7.72 1.47 1.35L5.41 20z\"/>\n",
              "  </svg>\n",
              "      </button>\n",
              "      \n",
              "  <style>\n",
              "    .colab-df-container {\n",
              "      display:flex;\n",
              "      flex-wrap:wrap;\n",
              "      gap: 12px;\n",
              "    }\n",
              "\n",
              "    .colab-df-convert {\n",
              "      background-color: #E8F0FE;\n",
              "      border: none;\n",
              "      border-radius: 50%;\n",
              "      cursor: pointer;\n",
              "      display: none;\n",
              "      fill: #1967D2;\n",
              "      height: 32px;\n",
              "      padding: 0 0 0 0;\n",
              "      width: 32px;\n",
              "    }\n",
              "\n",
              "    .colab-df-convert:hover {\n",
              "      background-color: #E2EBFA;\n",
              "      box-shadow: 0px 1px 2px rgba(60, 64, 67, 0.3), 0px 1px 3px 1px rgba(60, 64, 67, 0.15);\n",
              "      fill: #174EA6;\n",
              "    }\n",
              "\n",
              "    [theme=dark] .colab-df-convert {\n",
              "      background-color: #3B4455;\n",
              "      fill: #D2E3FC;\n",
              "    }\n",
              "\n",
              "    [theme=dark] .colab-df-convert:hover {\n",
              "      background-color: #434B5C;\n",
              "      box-shadow: 0px 1px 3px 1px rgba(0, 0, 0, 0.15);\n",
              "      filter: drop-shadow(0px 1px 2px rgba(0, 0, 0, 0.3));\n",
              "      fill: #FFFFFF;\n",
              "    }\n",
              "  </style>\n",
              "\n",
              "      <script>\n",
              "        const buttonEl =\n",
              "          document.querySelector('#df-60689d88-2f9b-479b-a7ca-5e9cfd327f8d button.colab-df-convert');\n",
              "        buttonEl.style.display =\n",
              "          google.colab.kernel.accessAllowed ? 'block' : 'none';\n",
              "\n",
              "        async function convertToInteractive(key) {\n",
              "          const element = document.querySelector('#df-60689d88-2f9b-479b-a7ca-5e9cfd327f8d');\n",
              "          const dataTable =\n",
              "            await google.colab.kernel.invokeFunction('convertToInteractive',\n",
              "                                                     [key], {});\n",
              "          if (!dataTable) return;\n",
              "\n",
              "          const docLinkHtml = 'Like what you see? Visit the ' +\n",
              "            '<a target=\"_blank\" href=https://colab.research.google.com/notebooks/data_table.ipynb>data table notebook</a>'\n",
              "            + ' to learn more about interactive tables.';\n",
              "          element.innerHTML = '';\n",
              "          dataTable['output_type'] = 'display_data';\n",
              "          await google.colab.output.renderOutput(dataTable, element);\n",
              "          const docLink = document.createElement('div');\n",
              "          docLink.innerHTML = docLinkHtml;\n",
              "          element.appendChild(docLink);\n",
              "        }\n",
              "      </script>\n",
              "    </div>\n",
              "  </div>\n",
              "  "
            ]
          },
          "metadata": {},
          "execution_count": 64
        }
      ]
    },
    {
      "cell_type": "markdown",
      "source": [
        "By using this method we decided 7 topic and we can name differnt topic . Like 0th topic has a term health so we can name that topic has Health Insaurance . This is totally depends on the domain knowlegde the more you understand the datset the better topic name you can decide . And by this you converted the unlabelled dataset to a labeled dataset ."
      ],
      "metadata": {
        "id": "00Z7Cij4-JrQ"
      }
    },
    {
      "cell_type": "code",
      "source": [
        "mytopic_dict = {0:'health',1:'election',2:'legis',3:'poli',4:'electon',5:'music',6:'education'}\n",
        "df['Topic_label'] = df['topic'].map(mytopic_dict)"
      ],
      "metadata": {
        "id": "f3e7fMya3Pwo"
      },
      "execution_count": 70,
      "outputs": []
    },
    {
      "cell_type": "code",
      "source": [
        "df.head()"
      ],
      "metadata": {
        "colab": {
          "base_uri": "https://localhost:8080/",
          "height": 206
        },
        "id": "cCHHYUEhFCvI",
        "outputId": "2d660855-ef79-4ad1-a89a-3f8e66f8778b"
      },
      "execution_count": 71,
      "outputs": [
        {
          "output_type": "execute_result",
          "data": {
            "text/plain": [
              "                                             Article  topic Topic_label\n",
              "0  In the Washington of 2016, even when the polic...      1    election\n",
              "1    Donald Trump has used Twitter  —   his prefe...      1    election\n",
              "2    Donald Trump is unabashedly praising Russian...      1    election\n",
              "3  Updated at 2:50 p. m. ET, Russian President Vl...      1    election\n",
              "4  From photography, illustration and video, to d...      2       legis"
            ],
            "text/html": [
              "\n",
              "  <div id=\"df-59398dec-ae6e-497d-b08c-353f0c7def7c\">\n",
              "    <div class=\"colab-df-container\">\n",
              "      <div>\n",
              "<style scoped>\n",
              "    .dataframe tbody tr th:only-of-type {\n",
              "        vertical-align: middle;\n",
              "    }\n",
              "\n",
              "    .dataframe tbody tr th {\n",
              "        vertical-align: top;\n",
              "    }\n",
              "\n",
              "    .dataframe thead th {\n",
              "        text-align: right;\n",
              "    }\n",
              "</style>\n",
              "<table border=\"1\" class=\"dataframe\">\n",
              "  <thead>\n",
              "    <tr style=\"text-align: right;\">\n",
              "      <th></th>\n",
              "      <th>Article</th>\n",
              "      <th>topic</th>\n",
              "      <th>Topic_label</th>\n",
              "    </tr>\n",
              "  </thead>\n",
              "  <tbody>\n",
              "    <tr>\n",
              "      <th>0</th>\n",
              "      <td>In the Washington of 2016, even when the polic...</td>\n",
              "      <td>1</td>\n",
              "      <td>election</td>\n",
              "    </tr>\n",
              "    <tr>\n",
              "      <th>1</th>\n",
              "      <td>Donald Trump has used Twitter  —   his prefe...</td>\n",
              "      <td>1</td>\n",
              "      <td>election</td>\n",
              "    </tr>\n",
              "    <tr>\n",
              "      <th>2</th>\n",
              "      <td>Donald Trump is unabashedly praising Russian...</td>\n",
              "      <td>1</td>\n",
              "      <td>election</td>\n",
              "    </tr>\n",
              "    <tr>\n",
              "      <th>3</th>\n",
              "      <td>Updated at 2:50 p. m. ET, Russian President Vl...</td>\n",
              "      <td>1</td>\n",
              "      <td>election</td>\n",
              "    </tr>\n",
              "    <tr>\n",
              "      <th>4</th>\n",
              "      <td>From photography, illustration and video, to d...</td>\n",
              "      <td>2</td>\n",
              "      <td>legis</td>\n",
              "    </tr>\n",
              "  </tbody>\n",
              "</table>\n",
              "</div>\n",
              "      <button class=\"colab-df-convert\" onclick=\"convertToInteractive('df-59398dec-ae6e-497d-b08c-353f0c7def7c')\"\n",
              "              title=\"Convert this dataframe to an interactive table.\"\n",
              "              style=\"display:none;\">\n",
              "        \n",
              "  <svg xmlns=\"http://www.w3.org/2000/svg\" height=\"24px\"viewBox=\"0 0 24 24\"\n",
              "       width=\"24px\">\n",
              "    <path d=\"M0 0h24v24H0V0z\" fill=\"none\"/>\n",
              "    <path d=\"M18.56 5.44l.94 2.06.94-2.06 2.06-.94-2.06-.94-.94-2.06-.94 2.06-2.06.94zm-11 1L8.5 8.5l.94-2.06 2.06-.94-2.06-.94L8.5 2.5l-.94 2.06-2.06.94zm10 10l.94 2.06.94-2.06 2.06-.94-2.06-.94-.94-2.06-.94 2.06-2.06.94z\"/><path d=\"M17.41 7.96l-1.37-1.37c-.4-.4-.92-.59-1.43-.59-.52 0-1.04.2-1.43.59L10.3 9.45l-7.72 7.72c-.78.78-.78 2.05 0 2.83L4 21.41c.39.39.9.59 1.41.59.51 0 1.02-.2 1.41-.59l7.78-7.78 2.81-2.81c.8-.78.8-2.07 0-2.86zM5.41 20L4 18.59l7.72-7.72 1.47 1.35L5.41 20z\"/>\n",
              "  </svg>\n",
              "      </button>\n",
              "      \n",
              "  <style>\n",
              "    .colab-df-container {\n",
              "      display:flex;\n",
              "      flex-wrap:wrap;\n",
              "      gap: 12px;\n",
              "    }\n",
              "\n",
              "    .colab-df-convert {\n",
              "      background-color: #E8F0FE;\n",
              "      border: none;\n",
              "      border-radius: 50%;\n",
              "      cursor: pointer;\n",
              "      display: none;\n",
              "      fill: #1967D2;\n",
              "      height: 32px;\n",
              "      padding: 0 0 0 0;\n",
              "      width: 32px;\n",
              "    }\n",
              "\n",
              "    .colab-df-convert:hover {\n",
              "      background-color: #E2EBFA;\n",
              "      box-shadow: 0px 1px 2px rgba(60, 64, 67, 0.3), 0px 1px 3px 1px rgba(60, 64, 67, 0.15);\n",
              "      fill: #174EA6;\n",
              "    }\n",
              "\n",
              "    [theme=dark] .colab-df-convert {\n",
              "      background-color: #3B4455;\n",
              "      fill: #D2E3FC;\n",
              "    }\n",
              "\n",
              "    [theme=dark] .colab-df-convert:hover {\n",
              "      background-color: #434B5C;\n",
              "      box-shadow: 0px 1px 3px 1px rgba(0, 0, 0, 0.15);\n",
              "      filter: drop-shadow(0px 1px 2px rgba(0, 0, 0, 0.3));\n",
              "      fill: #FFFFFF;\n",
              "    }\n",
              "  </style>\n",
              "\n",
              "      <script>\n",
              "        const buttonEl =\n",
              "          document.querySelector('#df-59398dec-ae6e-497d-b08c-353f0c7def7c button.colab-df-convert');\n",
              "        buttonEl.style.display =\n",
              "          google.colab.kernel.accessAllowed ? 'block' : 'none';\n",
              "\n",
              "        async function convertToInteractive(key) {\n",
              "          const element = document.querySelector('#df-59398dec-ae6e-497d-b08c-353f0c7def7c');\n",
              "          const dataTable =\n",
              "            await google.colab.kernel.invokeFunction('convertToInteractive',\n",
              "                                                     [key], {});\n",
              "          if (!dataTable) return;\n",
              "\n",
              "          const docLinkHtml = 'Like what you see? Visit the ' +\n",
              "            '<a target=\"_blank\" href=https://colab.research.google.com/notebooks/data_table.ipynb>data table notebook</a>'\n",
              "            + ' to learn more about interactive tables.';\n",
              "          element.innerHTML = '';\n",
              "          dataTable['output_type'] = 'display_data';\n",
              "          await google.colab.output.renderOutput(dataTable, element);\n",
              "          const docLink = document.createElement('div');\n",
              "          docLink.innerHTML = docLinkHtml;\n",
              "          element.appendChild(docLink);\n",
              "        }\n",
              "      </script>\n",
              "    </div>\n",
              "  </div>\n",
              "  "
            ]
          },
          "metadata": {},
          "execution_count": 71
        }
      ]
    },
    {
      "cell_type": "markdown",
      "source": [
        "## **Non-Negative Matirx Factorization**"
      ],
      "metadata": {
        "id": "tPLV9aROFJbI"
      }
    },
    {
      "cell_type": "markdown",
      "source": [
        "LDA depends on the count probability of the words so we can only use CountVectorizer . But here NMF works with coefficient values we can use Tfidfvectorization ."
      ],
      "metadata": {
        "id": "cDOF_AMOFkH4"
      }
    },
    {
      "cell_type": "code",
      "source": [
        "from sklearn.feature_extraction.text import TfidfVectorizer"
      ],
      "metadata": {
        "id": "yvjgcKG5FG87"
      },
      "execution_count": 72,
      "outputs": []
    },
    {
      "cell_type": "code",
      "source": [
        "tfidf = TfidfVectorizer(max_df = 0.95, min_df=2,stop_words = 'english')"
      ],
      "metadata": {
        "id": "4Sbd_s0dGOl_"
      },
      "execution_count": 73,
      "outputs": []
    },
    {
      "cell_type": "code",
      "source": [
        "tfidf_matrix = tfidf.fit_transform(df['Article'])"
      ],
      "metadata": {
        "id": "F8lI2yDQGaZ6"
      },
      "execution_count": 74,
      "outputs": []
    },
    {
      "cell_type": "code",
      "source": [
        "tfidf_matrix"
      ],
      "metadata": {
        "colab": {
          "base_uri": "https://localhost:8080/"
        },
        "id": "_Du5fLIsGqNb",
        "outputId": "b144b348-5195-4b1c-fe0d-cb41f3fcd094"
      },
      "execution_count": 75,
      "outputs": [
        {
          "output_type": "execute_result",
          "data": {
            "text/plain": [
              "<11992x54777 sparse matrix of type '<class 'numpy.float64'>'\n",
              "\twith 3033388 stored elements in Compressed Sparse Row format>"
            ]
          },
          "metadata": {},
          "execution_count": 75
        }
      ]
    },
    {
      "cell_type": "code",
      "source": [
        "from sklearn.decomposition import NMF"
      ],
      "metadata": {
        "id": "vu6AzYpbGubB"
      },
      "execution_count": 76,
      "outputs": []
    },
    {
      "cell_type": "code",
      "source": [
        "nmf_model = NMF(n_components=7,random_state=42)"
      ],
      "metadata": {
        "id": "t7P__6qPGueW"
      },
      "execution_count": 77,
      "outputs": []
    },
    {
      "cell_type": "code",
      "source": [
        "nmf_model.fit(tfidf_matrix)"
      ],
      "metadata": {
        "colab": {
          "base_uri": "https://localhost:8080/"
        },
        "id": "iyF0Kf90Guhk",
        "outputId": "a23916e0-80c1-4ffa-be4f-d91d3192d389"
      },
      "execution_count": 78,
      "outputs": [
        {
          "output_type": "execute_result",
          "data": {
            "text/plain": [
              "NMF(n_components=7, random_state=42)"
            ]
          },
          "metadata": {},
          "execution_count": 78
        }
      ]
    },
    {
      "cell_type": "code",
      "source": [
        "n=0\n",
        "for i,topic in enumerate(nmf_model.components_):\n",
        "  top_15=topic.argsort()[-15:]\n",
        "  print(f\"for topic {n}\")\n",
        "  print([cv.get_feature_names()[index] for index in top_15])\n",
        "  print(\"----------------------------------\")\n",
        "  print(\"\\n\")\n",
        "  n+=1"
      ],
      "metadata": {
        "colab": {
          "base_uri": "https://localhost:8080/"
        },
        "id": "NHPE1ocCGuk0",
        "outputId": "9fe14ede-4855-46d9-c9b8-350b6d4a891c"
      },
      "execution_count": 79,
      "outputs": [
        {
          "output_type": "stream",
          "name": "stdout",
          "text": [
            "for topic 0\n",
            "['new', 'research', 'like', 'patients', 'health', 'disease', 'percent', 'women', 'virus', 'study', 'water', 'food', 'people', 'zika', 'says']\n",
            "----------------------------------\n",
            "\n",
            "\n",
            "for topic 1\n",
            "['gop', 'pence', 'presidential', 'russia', 'administration', 'election', 'republican', 'obama', 'white', 'house', 'donald', 'campaign', 'said', 'president', 'trump']\n",
            "----------------------------------\n",
            "\n",
            "\n",
            "for topic 2\n",
            "['senate', 'house', 'people', 'act', 'law', 'tax', 'plan', 'republicans', 'affordable', 'obamacare', 'coverage', 'medicaid', 'insurance', 'care', 'health']\n",
            "----------------------------------\n",
            "\n",
            "\n",
            "for topic 3\n",
            "['officers', 'syria', 'security', 'department', 'law', 'isis', 'russia', 'government', 'state', 'attack', 'president', 'reports', 'court', 'said', 'police']\n",
            "----------------------------------\n",
            "\n",
            "\n",
            "for topic 4\n",
            "['primary', 'cruz', 'election', 'democrats', 'percent', 'party', 'delegates', 'vote', 'state', 'democratic', 'hillary', 'campaign', 'voters', 'sanders', 'clinton']\n",
            "----------------------------------\n",
            "\n",
            "\n",
            "for topic 5\n",
            "['love', 've', 'don', 'album', 'way', 'time', 'song', 'life', 'really', 'know', 'people', 'think', 'just', 'music', 'like']\n",
            "----------------------------------\n",
            "\n",
            "\n",
            "for topic 6\n",
            "['teacher', 'state', 'high', 'says', 'parents', 'devos', 'children', 'college', 'kids', 'teachers', 'student', 'education', 'schools', 'school', 'students']\n",
            "----------------------------------\n",
            "\n",
            "\n"
          ]
        }
      ]
    },
    {
      "cell_type": "code",
      "source": [
        "topic_results = nmf_model.transform(tfidf_matrix)"
      ],
      "metadata": {
        "id": "B4dLb0LbGuoK"
      },
      "execution_count": 80,
      "outputs": []
    },
    {
      "cell_type": "code",
      "source": [
        "topic_results.argmax(axis=1)"
      ],
      "metadata": {
        "colab": {
          "base_uri": "https://localhost:8080/"
        },
        "id": "mLb9pyDAGur6",
        "outputId": "a9244821-c858-47ef-b2f7-61b8342f03e1"
      },
      "execution_count": 81,
      "outputs": [
        {
          "output_type": "execute_result",
          "data": {
            "text/plain": [
              "array([1, 1, 1, ..., 0, 4, 3])"
            ]
          },
          "metadata": {},
          "execution_count": 81
        }
      ]
    },
    {
      "cell_type": "code",
      "source": [
        "df['NMF_topic'] = topic_results.argmax(axis=1)"
      ],
      "metadata": {
        "id": "XXGBXNOFHd84"
      },
      "execution_count": 82,
      "outputs": []
    },
    {
      "cell_type": "code",
      "source": [
        "df.head()"
      ],
      "metadata": {
        "colab": {
          "base_uri": "https://localhost:8080/",
          "height": 206
        },
        "id": "ur8rmvHdHmzM",
        "outputId": "c4cf5832-9051-4616-fa7f-09947d776c83"
      },
      "execution_count": 83,
      "outputs": [
        {
          "output_type": "execute_result",
          "data": {
            "text/plain": [
              "                                             Article  topic Topic_label  \\\n",
              "0  In the Washington of 2016, even when the polic...      1    election   \n",
              "1    Donald Trump has used Twitter  —   his prefe...      1    election   \n",
              "2    Donald Trump is unabashedly praising Russian...      1    election   \n",
              "3  Updated at 2:50 p. m. ET, Russian President Vl...      1    election   \n",
              "4  From photography, illustration and video, to d...      2       legis   \n",
              "\n",
              "   NMF_topic  \n",
              "0          1  \n",
              "1          1  \n",
              "2          1  \n",
              "3          3  \n",
              "4          6  "
            ],
            "text/html": [
              "\n",
              "  <div id=\"df-f1857943-5572-4127-8208-98a99224b10b\">\n",
              "    <div class=\"colab-df-container\">\n",
              "      <div>\n",
              "<style scoped>\n",
              "    .dataframe tbody tr th:only-of-type {\n",
              "        vertical-align: middle;\n",
              "    }\n",
              "\n",
              "    .dataframe tbody tr th {\n",
              "        vertical-align: top;\n",
              "    }\n",
              "\n",
              "    .dataframe thead th {\n",
              "        text-align: right;\n",
              "    }\n",
              "</style>\n",
              "<table border=\"1\" class=\"dataframe\">\n",
              "  <thead>\n",
              "    <tr style=\"text-align: right;\">\n",
              "      <th></th>\n",
              "      <th>Article</th>\n",
              "      <th>topic</th>\n",
              "      <th>Topic_label</th>\n",
              "      <th>NMF_topic</th>\n",
              "    </tr>\n",
              "  </thead>\n",
              "  <tbody>\n",
              "    <tr>\n",
              "      <th>0</th>\n",
              "      <td>In the Washington of 2016, even when the polic...</td>\n",
              "      <td>1</td>\n",
              "      <td>election</td>\n",
              "      <td>1</td>\n",
              "    </tr>\n",
              "    <tr>\n",
              "      <th>1</th>\n",
              "      <td>Donald Trump has used Twitter  —   his prefe...</td>\n",
              "      <td>1</td>\n",
              "      <td>election</td>\n",
              "      <td>1</td>\n",
              "    </tr>\n",
              "    <tr>\n",
              "      <th>2</th>\n",
              "      <td>Donald Trump is unabashedly praising Russian...</td>\n",
              "      <td>1</td>\n",
              "      <td>election</td>\n",
              "      <td>1</td>\n",
              "    </tr>\n",
              "    <tr>\n",
              "      <th>3</th>\n",
              "      <td>Updated at 2:50 p. m. ET, Russian President Vl...</td>\n",
              "      <td>1</td>\n",
              "      <td>election</td>\n",
              "      <td>3</td>\n",
              "    </tr>\n",
              "    <tr>\n",
              "      <th>4</th>\n",
              "      <td>From photography, illustration and video, to d...</td>\n",
              "      <td>2</td>\n",
              "      <td>legis</td>\n",
              "      <td>6</td>\n",
              "    </tr>\n",
              "  </tbody>\n",
              "</table>\n",
              "</div>\n",
              "      <button class=\"colab-df-convert\" onclick=\"convertToInteractive('df-f1857943-5572-4127-8208-98a99224b10b')\"\n",
              "              title=\"Convert this dataframe to an interactive table.\"\n",
              "              style=\"display:none;\">\n",
              "        \n",
              "  <svg xmlns=\"http://www.w3.org/2000/svg\" height=\"24px\"viewBox=\"0 0 24 24\"\n",
              "       width=\"24px\">\n",
              "    <path d=\"M0 0h24v24H0V0z\" fill=\"none\"/>\n",
              "    <path d=\"M18.56 5.44l.94 2.06.94-2.06 2.06-.94-2.06-.94-.94-2.06-.94 2.06-2.06.94zm-11 1L8.5 8.5l.94-2.06 2.06-.94-2.06-.94L8.5 2.5l-.94 2.06-2.06.94zm10 10l.94 2.06.94-2.06 2.06-.94-2.06-.94-.94-2.06-.94 2.06-2.06.94z\"/><path d=\"M17.41 7.96l-1.37-1.37c-.4-.4-.92-.59-1.43-.59-.52 0-1.04.2-1.43.59L10.3 9.45l-7.72 7.72c-.78.78-.78 2.05 0 2.83L4 21.41c.39.39.9.59 1.41.59.51 0 1.02-.2 1.41-.59l7.78-7.78 2.81-2.81c.8-.78.8-2.07 0-2.86zM5.41 20L4 18.59l7.72-7.72 1.47 1.35L5.41 20z\"/>\n",
              "  </svg>\n",
              "      </button>\n",
              "      \n",
              "  <style>\n",
              "    .colab-df-container {\n",
              "      display:flex;\n",
              "      flex-wrap:wrap;\n",
              "      gap: 12px;\n",
              "    }\n",
              "\n",
              "    .colab-df-convert {\n",
              "      background-color: #E8F0FE;\n",
              "      border: none;\n",
              "      border-radius: 50%;\n",
              "      cursor: pointer;\n",
              "      display: none;\n",
              "      fill: #1967D2;\n",
              "      height: 32px;\n",
              "      padding: 0 0 0 0;\n",
              "      width: 32px;\n",
              "    }\n",
              "\n",
              "    .colab-df-convert:hover {\n",
              "      background-color: #E2EBFA;\n",
              "      box-shadow: 0px 1px 2px rgba(60, 64, 67, 0.3), 0px 1px 3px 1px rgba(60, 64, 67, 0.15);\n",
              "      fill: #174EA6;\n",
              "    }\n",
              "\n",
              "    [theme=dark] .colab-df-convert {\n",
              "      background-color: #3B4455;\n",
              "      fill: #D2E3FC;\n",
              "    }\n",
              "\n",
              "    [theme=dark] .colab-df-convert:hover {\n",
              "      background-color: #434B5C;\n",
              "      box-shadow: 0px 1px 3px 1px rgba(0, 0, 0, 0.15);\n",
              "      filter: drop-shadow(0px 1px 2px rgba(0, 0, 0, 0.3));\n",
              "      fill: #FFFFFF;\n",
              "    }\n",
              "  </style>\n",
              "\n",
              "      <script>\n",
              "        const buttonEl =\n",
              "          document.querySelector('#df-f1857943-5572-4127-8208-98a99224b10b button.colab-df-convert');\n",
              "        buttonEl.style.display =\n",
              "          google.colab.kernel.accessAllowed ? 'block' : 'none';\n",
              "\n",
              "        async function convertToInteractive(key) {\n",
              "          const element = document.querySelector('#df-f1857943-5572-4127-8208-98a99224b10b');\n",
              "          const dataTable =\n",
              "            await google.colab.kernel.invokeFunction('convertToInteractive',\n",
              "                                                     [key], {});\n",
              "          if (!dataTable) return;\n",
              "\n",
              "          const docLinkHtml = 'Like what you see? Visit the ' +\n",
              "            '<a target=\"_blank\" href=https://colab.research.google.com/notebooks/data_table.ipynb>data table notebook</a>'\n",
              "            + ' to learn more about interactive tables.';\n",
              "          element.innerHTML = '';\n",
              "          dataTable['output_type'] = 'display_data';\n",
              "          await google.colab.output.renderOutput(dataTable, element);\n",
              "          const docLink = document.createElement('div');\n",
              "          docLink.innerHTML = docLinkHtml;\n",
              "          element.appendChild(docLink);\n",
              "        }\n",
              "      </script>\n",
              "    </div>\n",
              "  </div>\n",
              "  "
            ]
          },
          "metadata": {},
          "execution_count": 83
        }
      ]
    },
    {
      "cell_type": "code",
      "source": [
        "#remember this topic allocation in both methods happens in differnt way so do not interpret label columns will match."
      ],
      "metadata": {
        "id": "6Z1kFUNFHoyx"
      },
      "execution_count": 84,
      "outputs": []
    },
    {
      "cell_type": "code",
      "source": [],
      "metadata": {
        "id": "Cac_qiYBH6f2"
      },
      "execution_count": null,
      "outputs": []
    }
  ]
}